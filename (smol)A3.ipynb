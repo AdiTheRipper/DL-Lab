{
  "nbformat": 4,
  "nbformat_minor": 0,
  "metadata": {
    "colab": {
      "provenance": [],
      "authorship_tag": "ABX9TyPiwBBjIOB9YdybCGEDLOcf",
      "include_colab_link": true
    },
    "kernelspec": {
      "name": "python3",
      "display_name": "Python 3"
    },
    "language_info": {
      "name": "python"
    }
  },
  "cells": [
    {
      "cell_type": "markdown",
      "metadata": {
        "id": "view-in-github",
        "colab_type": "text"
      },
      "source": [
        "<a href=\"https://colab.research.google.com/github/AdiTheRipper/DL-Lab/blob/main/(smol)A3.ipynb\" target=\"_parent\"><img src=\"https://colab.research.google.com/assets/colab-badge.svg\" alt=\"Open In Colab\"/></a>"
      ]
    },
    {
      "cell_type": "code",
      "execution_count": 4,
      "metadata": {
        "colab": {
          "base_uri": "https://localhost:8080/",
          "height": 1000
        },
        "id": "bVjWYafy_xEb",
        "outputId": "39c6018e-2e1e-475c-b13a-288cfb7852a9"
      },
      "outputs": [
        {
          "output_type": "stream",
          "name": "stdout",
          "text": [
            "Epoch 1/11\n",
            "1563/1563 [==============================] - 18s 11ms/step - loss: 1.9237 - accuracy: 0.2911 - val_loss: 1.7731 - val_accuracy: 0.3558\n",
            "Epoch 2/11\n",
            "1563/1563 [==============================] - 14s 9ms/step - loss: 1.7325 - accuracy: 0.3728 - val_loss: 1.6553 - val_accuracy: 0.4047\n",
            "Epoch 3/11\n",
            "1563/1563 [==============================] - 15s 9ms/step - loss: 1.6514 - accuracy: 0.4050 - val_loss: 1.6128 - val_accuracy: 0.4198\n",
            "Epoch 4/11\n",
            "1563/1563 [==============================] - 14s 9ms/step - loss: 1.6029 - accuracy: 0.4234 - val_loss: 1.6271 - val_accuracy: 0.4155\n",
            "Epoch 5/11\n",
            "1563/1563 [==============================] - 14s 9ms/step - loss: 1.5673 - accuracy: 0.4363 - val_loss: 1.5946 - val_accuracy: 0.4260\n",
            "Epoch 6/11\n",
            "1563/1563 [==============================] - 14s 9ms/step - loss: 1.5450 - accuracy: 0.4457 - val_loss: 1.5605 - val_accuracy: 0.4462\n",
            "Epoch 7/11\n",
            "1563/1563 [==============================] - 15s 9ms/step - loss: 1.5137 - accuracy: 0.4557 - val_loss: 1.5192 - val_accuracy: 0.4559\n",
            "Epoch 8/11\n",
            "1563/1563 [==============================] - 14s 9ms/step - loss: 1.4956 - accuracy: 0.4627 - val_loss: 1.5213 - val_accuracy: 0.4582\n",
            "Epoch 9/11\n",
            "1563/1563 [==============================] - 14s 9ms/step - loss: 1.4766 - accuracy: 0.4702 - val_loss: 1.5039 - val_accuracy: 0.4644\n",
            "Epoch 10/11\n",
            "1563/1563 [==============================] - 16s 10ms/step - loss: 1.4660 - accuracy: 0.4724 - val_loss: 1.5342 - val_accuracy: 0.4549\n",
            "Epoch 11/11\n",
            "1563/1563 [==============================] - 14s 9ms/step - loss: 1.4475 - accuracy: 0.4809 - val_loss: 1.5098 - val_accuracy: 0.4594\n",
            "313/313 [==============================] - 1s 3ms/step - loss: 1.5098 - accuracy: 0.4594\n",
            "Test Loss: 1.510\n",
            "Test Accuracy: 0.459\n",
            "1/1 [==============================] - 0s 78ms/step\n"
          ]
        },
        {
          "output_type": "display_data",
          "data": {
            "text/plain": [
              "<Figure size 1000x1000 with 1 Axes>"
            ],
            "image/png": "[encoded data removed]"
          },
          "metadata": {}
        }
      ],
      "source": [
        "\n",
        "\n",
        "# Importing the necessary libraries\n",
        "import matplotlib.pyplot as plt\n",
        "import tensorflow as tf\n",
        "from tensorflow.keras import datasets, layers, models\n",
        "import random\n",
        "import numpy as np\n",
        "\n",
        "# Loading and preprocessing the CIFAR-10 dataset\n",
        "(train_images, train_labels), (test_images, test_labels) = datasets.cifar10.load_data()\n",
        "train_images, test_images = train_images / 255.0, test_images / 255.0\n",
        "\n",
        "# # Displaying images of specific categories\n",
        "class_names = ['airplane', 'automobile', 'bird', 'cat', 'deer','dog', 'frog', 'horse', 'ship', 'truck']\n",
        "\n",
        "# Another model definition and training\n",
        "model = tf.keras.Sequential([\n",
        "    tf.keras.layers.Flatten(input_shape=(32, 32, 3)),\n",
        "    tf.keras.layers.Dense(128, activation=\"relu\"),\n",
        "    tf.keras.layers.Dense(64, activation=\"relu\"),\n",
        "    tf.keras.layers.Dense(32, activation=\"relu\"),\n",
        "    tf.keras.layers.Dense(10, activation=\"softmax\")\n",
        "])\n",
        "\n",
        "model.compile(optimizer=\"adam\", loss=\"sparse_categorical_crossentropy\", metrics=['accuracy'])\n",
        "history = model.fit(train_images, train_labels, validation_data=(test_images, test_labels), epochs=11)\n",
        "\n",
        "# Evaluating the model's performance on the test dataset\n",
        "test_loss, test_acc = model.evaluate(test_images, test_labels)\n",
        "print(\"Test Loss: %.3f\" % test_loss)\n",
        "print(\"Test Accuracy: %.3f\" % test_acc)\n",
        "\n",
        "# Predicting and displaying a random test image with its predicted class\n",
        "n = random.randint(0, 9999)\n",
        "plt.figure(figsize=(10, 10))\n",
        "plt.imshow(test_images[n])\n",
        "plt.xticks([])\n",
        "plt.yticks([])\n",
        "plt.grid(False)\n",
        "plt.title(\"Predicted Class: \" + class_names[np.argmax(model.predict(np.expand_dims(test_images[n], axis=0)))])\n",
        "plt.show()"
      ]
    },
    {
      "cell_type": "markdown",
      "source": [],
      "metadata": {
        "id": "HO81adIxzzpR"
      }
    },
    {
      "cell_type": "code",
      "source": [],
      "metadata": {
        "id": "pa2NGxifBEFA"
      },
      "execution_count": null,
      "outputs": []
    },
    {
      "cell_type": "code",
      "source": [],
      "metadata": {
        "id": "6-JWqTGSBFRb"
      },
      "execution_count": null,
      "outputs": []
    },
    {
      "cell_type": "code",
      "source": [],
      "metadata": {
        "id": "nONtrh1JEuHJ"
      },
      "execution_count": null,
      "outputs": []
    }
  ]
}